{
  "nbformat": 4,
  "nbformat_minor": 0,
  "metadata": {
    "colab": {
      "provenance": [],
      "authorship_tag": "ABX9TyM1Ij1e9j1cBj73b9KvNml7",
      "include_colab_link": true
    },
    "kernelspec": {
      "name": "python3",
      "display_name": "Python 3"
    },
    "language_info": {
      "name": "python"
    }
  },
  "cells": [
    {
      "cell_type": "markdown",
      "metadata": {
        "id": "view-in-github",
        "colab_type": "text"
      },
      "source": [
        "<a href=\"https://colab.research.google.com/github/Hgup45/Hgup45/blob/main/Excercism_Ex.ipynb\" target=\"_parent\"><img src=\"https://colab.research.google.com/assets/colab-badge.svg\" alt=\"Open In Colab\"/></a>"
      ]
    },
    {
      "cell_type": "code",
      "execution_count": 11,
      "metadata": {
        "id": "toD_5-cg9BaQ",
        "colab": {
          "base_uri": "https://localhost:8080/"
        },
        "outputId": "6217601d-7eac-4524-a5bd-f91a905736e6"
      },
      "outputs": [
        {
          "output_type": "stream",
          "name": "stdout",
          "text": [
            "bake time remaining 10 minutes\n"
          ]
        }
      ],
      "source": [
        "EXPECTED_BAKE_TIME = 40\n",
        "\n",
        "def bake_time_remaining(time_taken):\n",
        "  time_remaining = EXPECTED_BAKE_TIME - time_taken\n",
        "  return time_remaining\n",
        "\n",
        "actual_time = bake_time_remaining(30)\n",
        "print(f\"bake time remaining {actual_time} minutes\")\n"
      ]
    },
    {
      "cell_type": "code",
      "source": [
        "def preparation_time_in_minutes(number_of_layers):\n",
        "  total_layer_time = number_of_layers * 2\n",
        "  return total_layer_time\n",
        "\n",
        "total_layer_time = preparation_time_in_minutes(9)\n",
        "print(f\"It takes {total_layer_time} minutes\")\n",
        "\n"
      ],
      "metadata": {
        "colab": {
          "base_uri": "https://localhost:8080/"
        },
        "id": "XZXH636fVVh8",
        "outputId": "0e79d0fe-f192-49f2-aaf7-4da1131f7dd2"
      },
      "execution_count": 30,
      "outputs": [
        {
          "output_type": "stream",
          "name": "stdout",
          "text": [
            "It takes 18 minutes\n"
          ]
        }
      ]
    },
    {
      "cell_type": "code",
      "source": [
        "def elapsed_time_in_minutes(number_of_layers, elapsed_bake_time):\n",
        "  elapsed_time = preparation_time_in_minutes(number_of_layers) + elapsed_bake_time\n",
        "  return elapsed_time\n",
        "\n",
        "elapsed_time = elapsed_time_in_minutes(10,20)\n",
        "print(f\"It takes {elapsed_time} minutes\")"
      ],
      "metadata": {
        "colab": {
          "base_uri": "https://localhost:8080/"
        },
        "id": "DHDEeTj_Y50-",
        "outputId": "7c1a8b42-6f3f-4489-a36e-6f88d8a258f1"
      },
      "execution_count": 35,
      "outputs": [
        {
          "output_type": "stream",
          "name": "stdout",
          "text": [
            "It takes 40 minutes\n"
          ]
        }
      ]
    },
    {
      "cell_type": "code",
      "source": [
        "EXPECTED_BAKE_TIME = 40\n",
        "\n",
        "def bake_time_remaining(time_taken):\n",
        "\"\"\"returns how many minutes the lasagna should bake in the oven\"\"\"\n",
        "  time_remaining = EXPECTED_BAKE_TIME - time_taken\n",
        "  return time_remaining\n",
        "\n",
        "def preparation_time_in_minutes(number_of_layers):\n",
        "\"\"\"unction that takes the actual minutes the lasagna has been in the oven as an argument and returns how many minutes the lasagna still needs to bake based on the EXPECTED_BAKE_TIME.\"\"\"\n",
        "  total_layer_time = number_of_layers * 2\n",
        "  return total_layer_time\n",
        "\n",
        "def elapsed_time_in_minutes(number_of_layers, elapsed_bake_time):\n",
        "\"\"\"function that takes the number of layers you want to add to the lasagna as an argument and returns how many minutes you would spend making them\"\"\"\n",
        "  elapsed_time = preparation_time_in_minutes(number_of_layers) + elapsed_bake_time\n",
        "  return elapsed_time\n",
        "\n",
        "actual_time = bake_time_remaining(30)\n",
        "print(f\"bake time remaining {actual_time} minutes\")\n",
        "\n",
        "total_layer_time = preparation_time_in_minutes(9)\n",
        "print(f\"It takes {total_layer_time} minutes\")\n",
        "\n",
        "elapsed_time = elapsed_time_in_minutes(10,20)\n",
        "print(f\"It takes {elapsed_time} minutes\")"
      ],
      "metadata": {
        "colab": {
          "base_uri": "https://localhost:8080/",
          "height": 141
        },
        "id": "IbPRGpSOcYbn",
        "outputId": "b66f57dd-29d9-4711-ec40-f2b4560f20a6"
      },
      "execution_count": 36,
      "outputs": [
        {
          "output_type": "error",
          "ename": "IndentationError",
          "evalue": "ignored",
          "traceback": [
            "\u001b[0;36m  File \u001b[0;32m\"<ipython-input-36-94cb3bec6025>\"\u001b[0;36m, line \u001b[0;32m4\u001b[0m\n\u001b[0;31m    \"\"\"returns how many minutes the lasagna should bake in the oven\"\"\"\u001b[0m\n\u001b[0m    ^\u001b[0m\n\u001b[0;31mIndentationError\u001b[0m\u001b[0;31m:\u001b[0m expected an indented block after function definition on line 3\n"
          ]
        }
      ]
    },
    {
      "cell_type": "code",
      "source": [
        "EXPECTED_BAKE_TIME = 40\n",
        "\n",
        "def bake_time_remaining(time_taken):\n",
        "    \"\"\"Returns how many minutes the lasagna should bake in the oven.\"\"\"\n",
        "    time_remaining = EXPECTED_BAKE_TIME - time_taken\n",
        "        return time_remaining\n",
        "\n",
        "def preparation_time_in_minutes(number_of_layers):\n",
        "    \"\"\"Total minutes for the each layer.\"\"\"\n",
        "    total_layer_time = number_of_layers * 2\n",
        "        return total_layer_time\n",
        "\n",
        "def elapsed_time_in_minutes(number_of_layers, elapsed_bake_time):\n",
        "    \"\"\"Calculate total time taken including layers.\"\"\"\n",
        "    elapsed_time = preparation_time_in_minutes(number_of_layers) + elapsed_bake_time\n",
        "        return elapsed_time\n",
        "\n",
        "actual_time = bake_time_remaining(30)\n",
        "print(f\"bake time remaining {actual_time} minutes\")\n",
        "\n",
        "total_layer_time = preparation_time_in_minutes(9)\n",
        "print(f\"It takes {total_layer_time} minutes\")\n",
        "\n",
        "elapsed_time = elapsed_time_in_minutes(10,20)\n",
        "print(f\"It takes {elapsed_time} minutes\")"
      ],
      "metadata": {
        "colab": {
          "base_uri": "https://localhost:8080/",
          "height": 141
        },
        "id": "SR9mQ6RodxQG",
        "outputId": "df1c5030-572a-4bbf-cbee-e17a71e7c462"
      },
      "execution_count": 37,
      "outputs": [
        {
          "output_type": "error",
          "ename": "IndentationError",
          "evalue": "ignored",
          "traceback": [
            "\u001b[0;36m  File \u001b[0;32m\"<ipython-input-37-6fd7455caa30>\"\u001b[0;36m, line \u001b[0;32m6\u001b[0m\n\u001b[0;31m    return time_remaining\u001b[0m\n\u001b[0m    ^\u001b[0m\n\u001b[0;31mIndentationError\u001b[0m\u001b[0;31m:\u001b[0m unexpected indent\n"
          ]
        }
      ]
    },
    {
      "cell_type": "code",
      "source": [
        "# time the lasagna should be in the oven according to the cookbook.\n",
        "EXPECTED_BAKE_TIME = 40\n",
        "PREPARATION_TIME = 2\n",
        "\n",
        "\n",
        "def bake_time_remaining(elapsed_bake_time):\n",
        "    \"\"\"Calculate the bake time remaining.\n",
        "\n",
        "   :param elapsed_bake_time: int baking time already elapsed\n",
        "   :return: int remaining bake time (in minutes) derived from 'EXPECTED_BAKE_TIME'\n",
        "\n",
        "   Function that takes the actual minutes the lasagna has been in the oven as\n",
        "   an argument and returns how many minutes the lasagna still needs to bake\n",
        "   based on the `EXPECTED_BAKE_TIME`.\n",
        "   \"\"\"\n",
        "\n",
        "    return EXPECTED_BAKE_TIME - elapsed_bake_time\n",
        "\n",
        "\n",
        "def preparation_time_in_minutes(number_of_layers):\n",
        "    \"\"\"Calculate the preparation time.\n",
        "\n",
        "    :param number_of_layers: int the number of lasagna layers made\n",
        "    :return: int amount of prep time (in minutes), based on 2 minutes per layer added\n",
        "\n",
        "    This function takes an integer representing the number of layers added to the dish,\n",
        "    calculating preparation time using a time of 2 minutes per layer added.\n",
        "    \"\"\"\n",
        "\n",
        "    return number_of_layers * PREPARATION_TIME\n",
        "\n",
        "\n",
        "def elapsed_time_in_minutes(number_of_layers, elapsed_bake_time):\n",
        "    \"\"\"Calculate the elapsed time.\n",
        "\n",
        "    :param number_of_layers: int the number of layers in the lasagna\n",
        "    :param elapsed_bake_time: int elapsed cooking time\n",
        "    :return:  int total time elapsed (in in minutes) preparing and cooking\n",
        "\n",
        "    This function takes two integers representing the number of lasagna layers and the time already spent baking\n",
        "     and calculates the total elapsed minutes spent cooking the lasagna.\n",
        "    \"\"\"\n",
        "\n",
        "    return preparation_time_in_minutes(number_of_layers) + elapsed_bake_time"
      ],
      "metadata": {
        "id": "FKGr_Sceazj6"
      },
      "execution_count": 38,
      "outputs": []
    },
    {
      "cell_type": "code",
      "source": [
        "def get_leftover_of_bills(amount, denomination):\n",
        "  return amount % denomination\n",
        "\n",
        "get_leftover_of_bills(127.5, 20)\n"
      ],
      "metadata": {
        "colab": {
          "base_uri": "https://localhost:8080/"
        },
        "id": "ImcptDmFjGTM",
        "outputId": "00b64aaf-0978-47ed-ed92-8110f83b3415"
      },
      "execution_count": 40,
      "outputs": [
        {
          "output_type": "execute_result",
          "data": {
            "text/plain": [
              "7.5"
            ]
          },
          "metadata": {},
          "execution_count": 40
        }
      ]
    },
    {
      "cell_type": "code",
      "source": [
        "def get_number_of_bills(amount, denomination):\n",
        "  return int(amount/denomination)\n",
        "\n",
        "get_number_of_bills(127.5, 5)"
      ],
      "metadata": {
        "colab": {
          "base_uri": "https://localhost:8080/"
        },
        "id": "qZTNmHTLjUWL",
        "outputId": "dafdaaff-da23-49d6-b402-b28df6446eab"
      },
      "execution_count": 41,
      "outputs": [
        {
          "output_type": "execute_result",
          "data": {
            "text/plain": [
              "25"
            ]
          },
          "metadata": {},
          "execution_count": 41
        }
      ]
    },
    {
      "cell_type": "code",
      "source": [
        "def exchangeable_value(budget, exchange_rate, spread, denomination):\n",
        "  actual_rate = ((spread/100)*exchange_rate) + exchange_rate\n",
        "  return (actual_rate)\n",
        "\n",
        "exchangeable_value(127.25, 1.20, 10, 20)"
      ],
      "metadata": {
        "colab": {
          "base_uri": "https://localhost:8080/"
        },
        "id": "IaHzeClmjcm7",
        "outputId": "a8f6a8fe-4907-4315-e4d1-19aeb4c9745a"
      },
      "execution_count": 46,
      "outputs": [
        {
          "output_type": "execute_result",
          "data": {
            "text/plain": [
              "1.3199999999999998"
            ]
          },
          "metadata": {},
          "execution_count": 46
        }
      ]
    },
    {
      "cell_type": "code",
      "source": [
        "127.25%(1.32*20)"
      ],
      "metadata": {
        "colab": {
          "base_uri": "https://localhost:8080/"
        },
        "id": "QJ9ksnQUmWZu",
        "outputId": "b50d97a1-1f1d-4641-a287-4314cdfad033"
      },
      "execution_count": 53,
      "outputs": [
        {
          "output_type": "execute_result",
          "data": {
            "text/plain": [
              "21.64999999999999"
            ]
          },
          "metadata": {},
          "execution_count": 53
        }
      ]
    },
    {
      "cell_type": "code",
      "source": [
        "budget/(((spread/100)*exchange_rate) + exchange_rate)"
      ],
      "metadata": {
        "id": "2GlQOqFKpUVH"
      },
      "execution_count": null,
      "outputs": []
    },
    {
      "cell_type": "code",
      "source": [
        "127.25/(((10/100)*1.20) + 1.20)"
      ],
      "metadata": {
        "colab": {
          "base_uri": "https://localhost:8080/"
        },
        "id": "-Bq3JQ8wpYF2",
        "outputId": "431eccae-dc3b-48a1-e8e5-9f9db32bfbf7"
      },
      "execution_count": 54,
      "outputs": [
        {
          "output_type": "execute_result",
          "data": {
            "text/plain": [
              "96.40151515151517"
            ]
          },
          "metadata": {},
          "execution_count": 54
        }
      ]
    },
    {
      "cell_type": "code",
      "source": [
        "int(96.40151515151517/20)"
      ],
      "metadata": {
        "colab": {
          "base_uri": "https://localhost:8080/"
        },
        "id": "OtZvjA8ApuQ7",
        "outputId": "276bb556-97d2-4b78-e40c-a308c08a31c2"
      },
      "execution_count": 57,
      "outputs": [
        {
          "output_type": "execute_result",
          "data": {
            "text/plain": [
              "4"
            ]
          },
          "metadata": {},
          "execution_count": 57
        }
      ]
    },
    {
      "cell_type": "code",
      "source": [
        "def is_criticality_balanced(temperature, neutrons_emitted):\n",
        "    \"\"\"Verify criticality is balanced.\n",
        "\n",
        "    :param temperature: int or float - temperature value in kelvin.\n",
        "    :param neutrons_emitted: int or float - number of neutrons emitted per second.\n",
        "    :return: bool - is criticality balanced?\n",
        "\n",
        "    A reactor is said to be critical if it satisfies the following conditions:\n",
        "    - The temperature is less than 800 K.\n",
        "    - The number of neutrons emitted per second is greater than 500.\n",
        "    - The product of temperature and neutrons emitted per second is less than 500000.\n",
        "    \"\"\"\n",
        "\n",
        "    if temperature<800 and neutrons_emitted>500:\n",
        "        return True\n",
        "\n",
        "is_criticality_balanced(750, 600)\n"
      ],
      "metadata": {
        "colab": {
          "base_uri": "https://localhost:8080/"
        },
        "id": "2J2EzLpL3HE0",
        "outputId": "b1ea2433-bc07-4c74-b341-5b2e7303ca88"
      },
      "execution_count": 59,
      "outputs": [
        {
          "output_type": "execute_result",
          "data": {
            "text/plain": [
              "True"
            ]
          },
          "metadata": {},
          "execution_count": 59
        }
      ]
    },
    {
      "cell_type": "code",
      "source": [
        "def reactor_efficiency(voltage, current, theoretical_max_power):\n",
        "    \"\"\"Assess reactor efficiency zone.\n",
        "\n",
        "    :param voltage: int or float - voltage value.\n",
        "    :param current: int or float - current value.\n",
        "    :param theoretical_max_power: int or float - power that corresponds to a 100% efficiency.\n",
        "    :return: str - one of ('green', 'orange', 'red', or 'black').\n",
        "\n",
        "    Efficiency can be grouped into 4 bands:\n",
        "\n",
        "    1. green -> efficiency of 80% or more,\n",
        "    2. orange -> efficiency of less than 80% but at least 60%,\n",
        "    3. red -> efficiency below 60%, but still 30% or more,\n",
        "    4. black ->  less than 30% efficient.\n",
        "\n",
        "    The percentage value is calculated as\n",
        "    (generated power/ theoretical max power)*100\n",
        "    where generated power = voltage * current\n",
        "    \"\"\"\n",
        "    generated_power = voltage * current\n",
        "    Efficiency = (generated_power/theoretical_max_power)*100\n",
        "    if Efficiency>=80:\n",
        "        return green\n",
        "    elif 60<=Efficiency<80:\n",
        "        return orange\n",
        "    elif 30<=Efficiency<60:\n",
        "        return red\n",
        "    elif Efficiency<30:\n",
        "        return black\n",
        "    else:\n",
        "        return False\n",
        "\n",
        "reactor_efficiency(200,50,15000)"
      ],
      "metadata": {
        "colab": {
          "base_uri": "https://localhost:8080/",
          "height": 332
        },
        "id": "aKxpkOoG5Ubl",
        "outputId": "577e789a-a43f-45e5-a0ca-ee626ef18da4"
      },
      "execution_count": 60,
      "outputs": [
        {
          "output_type": "error",
          "ename": "NameError",
          "evalue": "ignored",
          "traceback": [
            "\u001b[0;31m---------------------------------------------------------------------------\u001b[0m",
            "\u001b[0;31mNameError\u001b[0m                                 Traceback (most recent call last)",
            "\u001b[0;32m<ipython-input-60-6504d5a07b3e>\u001b[0m in \u001b[0;36m<cell line: 33>\u001b[0;34m()\u001b[0m\n\u001b[1;32m     31\u001b[0m         \u001b[0;32mreturn\u001b[0m \u001b[0;32mFalse\u001b[0m\u001b[0;34m\u001b[0m\u001b[0;34m\u001b[0m\u001b[0m\n\u001b[1;32m     32\u001b[0m \u001b[0;34m\u001b[0m\u001b[0m\n\u001b[0;32m---> 33\u001b[0;31m \u001b[0mreactor_efficiency\u001b[0m\u001b[0;34m(\u001b[0m\u001b[0;36m200\u001b[0m\u001b[0;34m,\u001b[0m\u001b[0;36m50\u001b[0m\u001b[0;34m,\u001b[0m\u001b[0;36m15000\u001b[0m\u001b[0;34m)\u001b[0m\u001b[0;34m\u001b[0m\u001b[0;34m\u001b[0m\u001b[0m\n\u001b[0m",
            "\u001b[0;32m<ipython-input-60-6504d5a07b3e>\u001b[0m in \u001b[0;36mreactor_efficiency\u001b[0;34m(voltage, current, theoretical_max_power)\u001b[0m\n\u001b[1;32m     23\u001b[0m         \u001b[0;32mreturn\u001b[0m \u001b[0mgreen\u001b[0m\u001b[0;34m\u001b[0m\u001b[0;34m\u001b[0m\u001b[0m\n\u001b[1;32m     24\u001b[0m     \u001b[0;32melif\u001b[0m \u001b[0;36m60\u001b[0m\u001b[0;34m<=\u001b[0m\u001b[0mEfficiency\u001b[0m\u001b[0;34m<\u001b[0m\u001b[0;36m80\u001b[0m\u001b[0;34m:\u001b[0m\u001b[0;34m\u001b[0m\u001b[0;34m\u001b[0m\u001b[0m\n\u001b[0;32m---> 25\u001b[0;31m         \u001b[0;32mreturn\u001b[0m \u001b[0morange\u001b[0m\u001b[0;34m\u001b[0m\u001b[0;34m\u001b[0m\u001b[0m\n\u001b[0m\u001b[1;32m     26\u001b[0m     \u001b[0;32melif\u001b[0m \u001b[0;36m30\u001b[0m\u001b[0;34m<=\u001b[0m\u001b[0mEfficiency\u001b[0m\u001b[0;34m<\u001b[0m\u001b[0;36m60\u001b[0m\u001b[0;34m:\u001b[0m\u001b[0;34m\u001b[0m\u001b[0;34m\u001b[0m\u001b[0m\n\u001b[1;32m     27\u001b[0m         \u001b[0;32mreturn\u001b[0m \u001b[0mred\u001b[0m\u001b[0;34m\u001b[0m\u001b[0;34m\u001b[0m\u001b[0m\n",
            "\u001b[0;31mNameError\u001b[0m: name 'orange' is not defined"
          ]
        }
      ]
    },
    {
      "cell_type": "code",
      "source": [
        "\n",
        "def fail_safe(temperature, neutrons_produced_per_second, threshold):\n",
        "    \"\"\"Assess and return status code for the reactor.\n",
        "\n",
        "    :param temperature: int or float - value of the temperature in kelvin.\n",
        "    :param neutrons_produced_per_second: int or float - neutron flux.\n",
        "    :param threshold: int or float - threshold for category.\n",
        "    :return: str - one of ('LOW', 'NORMAL', 'DANGER').\n",
        "\n",
        "    1. 'LOW' -> `temperature * neutrons per second` < 90% of `threshold`\n",
        "    2. 'NORMAL' -> `temperature * neutrons per second` +/- 10% of `threshold`\n",
        "    3. 'DANGER' -> `temperature * neutrons per second` is not in the above-stated ranges\n",
        "    \"\"\"\n",
        "\n",
        "    if (temperature * neutrons_produced_per_second) < (0.9*threshold):\n",
        "        return \"LOW\"\n",
        "    elif (temperature * neutrons_produced_per_second) <= (0.1*threshold):\n",
        "        return \"NORMAL\"\n",
        "    else:\n",
        "        return \"DANGER\"\n",
        "\n",
        "fail_safe(temperature=1000, neutrons_produced_per_second=30, threshold=5000)"
      ],
      "metadata": {
        "colab": {
          "base_uri": "https://localhost:8080/",
          "height": 35
        },
        "id": "5_-NFyg053H8",
        "outputId": "8fd9cfb7-39ec-4f4a-a607-98555306a33d"
      },
      "execution_count": 61,
      "outputs": [
        {
          "output_type": "execute_result",
          "data": {
            "text/plain": [
              "'DANGER'"
            ],
            "application/vnd.google.colaboratory.intrinsic+json": {
              "type": "string"
            }
          },
          "metadata": {},
          "execution_count": 61
        }
      ]
    },
    {
      "cell_type": "code",
      "source": [
        "website = \"exercism\"\n",
        "print(website[0:1])\n"
      ],
      "metadata": {
        "colab": {
          "base_uri": "https://localhost:8080/"
        },
        "id": "DtBcH7zW9m6S",
        "outputId": "60221161-d2eb-4c7f-f80d-b2c49e6fabce"
      },
      "execution_count": 64,
      "outputs": [
        {
          "output_type": "stream",
          "name": "stdout",
          "text": [
            "e\n"
          ]
        }
      ]
    },
    {
      "cell_type": "code",
      "source": [
        "moon_and_stars = '🌟🌟🌙🌟🌟⭐'\n",
        "sun_and_moon = '🌞🌙🌞🌙🌞🌙🌞🌙🌞'\n",
        "\n",
        "sun_and_moon[1:-1:2]\n",
        "sun_and_moon[:-2:2]\n",
        "sun_and_moon[::2]\n",
        "moon_and_stars[:-3]\n",
        "moon_and_stars[:-1]\n",
        "moon_and_stars[3:]\n",
        "moon_and_stars[:3]\n",
        "moon_and_stars[1:4]"
      ],
      "metadata": {
        "colab": {
          "base_uri": "https://localhost:8080/",
          "height": 35
        },
        "id": "qEn662bg-tkP",
        "outputId": "a9ec1278-f3e0-4232-c682-70c9774c712d"
      },
      "execution_count": 70,
      "outputs": [
        {
          "output_type": "execute_result",
          "data": {
            "text/plain": [
              "'🌟🌙🌟'"
            ],
            "application/vnd.google.colaboratory.intrinsic+json": {
              "type": "string"
            }
          },
          "metadata": {},
          "execution_count": 70
        }
      ]
    }
  ]
}